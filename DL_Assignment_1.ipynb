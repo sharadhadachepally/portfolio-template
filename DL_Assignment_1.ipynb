{
  "cells": [
    {
      "cell_type": "markdown",
      "metadata": {
        "id": "view-in-github",
        "colab_type": "text"
      },
      "source": [
        "<a href=\"https://colab.research.google.com/github/sharadhadachepally/portfolio-template/blob/main/DL_Assignment_1.ipynb\" target=\"_parent\"><img src=\"https://colab.research.google.com/assets/colab-badge.svg\" alt=\"Open In Colab\"/></a>"
      ]
    },
    {
      "cell_type": "markdown",
      "source": [
        "# LSTM"
      ],
      "metadata": {
        "id": "yvH4rGUcr0i4"
      }
    },
    {
      "cell_type": "code",
      "execution_count": null,
      "metadata": {
        "id": "vKkLtCaIhaHy"
      },
      "outputs": [],
      "source": [
        "import numpy as np\n",
        "from tensorflow.keras.datasets import imdb\n",
        "from tensorflow.keras.models import Sequential\n",
        "from tensorflow.keras.layers import Embedding, RNN, Dense,LSTM\n",
        "from tensorflow.keras.preprocessing import sequence"
      ]
    },
    {
      "cell_type": "code",
      "source": [
        "max_words = 5000"
      ],
      "metadata": {
        "id": "-TIFPgNroyvq"
      },
      "execution_count": null,
      "outputs": []
    },
    {
      "cell_type": "code",
      "execution_count": null,
      "metadata": {
        "id": "_GcAMqs6f4Wi",
        "colab": {
          "base_uri": "https://localhost:8080/"
        },
        "outputId": "d3e3f94d-daef-458f-dcab-c75aea931b14"
      },
      "outputs": [
        {
          "output_type": "stream",
          "name": "stdout",
          "text": [
            "Downloading data from https://storage.googleapis.com/tensorflow/tf-keras-datasets/imdb.npz\n",
            "17464789/17464789 [==============================] - 0s 0us/step\n"
          ]
        }
      ],
      "source": [
        "(x_train, y_train), (x_test, y_test) = imdb.load_data(num_words=max_words)"
      ]
    },
    {
      "cell_type": "code",
      "execution_count": null,
      "metadata": {
        "id": "mwCTGaxEhPUE"
      },
      "outputs": [],
      "source": [
        "max_length = 500\n",
        "x_train = sequence.pad_sequences(x_train, maxlen=max_length)\n",
        "x_test = sequence.pad_sequences(x_test, maxlen=max_length)"
      ]
    },
    {
      "cell_type": "code",
      "execution_count": null,
      "metadata": {
        "id": "EQ6B9P0phzYT"
      },
      "outputs": [],
      "source": [
        "model = Sequential()\n",
        "model.add(Embedding(max_words, 100, input_length=max_length))\n",
        "model.add(LSTM(128))\n",
        "model.add(Dense(1, activation='sigmoid'))\n"
      ]
    },
    {
      "cell_type": "code",
      "execution_count": null,
      "metadata": {
        "id": "cnb1ZECbioW6"
      },
      "outputs": [],
      "source": [
        "model.compile(loss='binary_crossentropy', optimizer='adam', metrics=['accuracy'])"
      ]
    },
    {
      "cell_type": "code",
      "execution_count": 16,
      "metadata": {
        "colab": {
          "base_uri": "https://localhost:8080/"
        },
        "id": "8ukehvoAitCJ",
        "outputId": "be2df1de-9dbe-4100-ba7f-56f3a6ae74c4"
      },
      "outputs": [
        {
          "output_type": "stream",
          "name": "stdout",
          "text": [
            "Epoch 1/2\n",
            "157/157 [==============================] - 313s 2s/step - loss: 0.2138 - accuracy: 0.9180 - val_loss: 0.3438 - val_accuracy: 0.8748\n",
            "Epoch 2/2\n",
            "157/157 [==============================] - 299s 2s/step - loss: 0.1639 - accuracy: 0.9399 - val_loss: 0.3944 - val_accuracy: 0.8696\n"
          ]
        },
        {
          "output_type": "execute_result",
          "data": {
            "text/plain": [
              "<keras.callbacks.History at 0x7948adcfab00>"
            ]
          },
          "metadata": {},
          "execution_count": 16
        }
      ],
      "source": [
        "batch_size = 128\n",
        "epochs = 2\n",
        "model.fit(x_train, y_train, batch_size=batch_size, epochs=epochs, validation_split=0.2)\n"
      ]
    },
    {
      "cell_type": "code",
      "source": [
        "loss, accuracy = model.evaluate(x_test, y_test, batch_size=batch_size)\n",
        "print(\"Test loss:\", loss)\n",
        "print(\"Test accuracy:\", accuracy)"
      ],
      "metadata": {
        "colab": {
          "base_uri": "https://localhost:8080/"
        },
        "id": "OrjjQJI2oXF9",
        "outputId": "7810938f-5c81-4238-a170-71af8672a445"
      },
      "execution_count": 17,
      "outputs": [
        {
          "output_type": "stream",
          "name": "stdout",
          "text": [
            "196/196 [==============================] - 111s 568ms/step - loss: 0.4169 - accuracy: 0.8589\n",
            "Test loss: 0.4168672561645508\n",
            "Test accuracy: 0.8589199781417847\n"
          ]
        }
      ]
    },
    {
      "cell_type": "code",
      "source": [
        "history=model.fit(x_train,y_train,batch_size=batch_size,epochs=epochs)"
      ],
      "metadata": {
        "id": "1QTODawKtNa1",
        "colab": {
          "base_uri": "https://localhost:8080/"
        },
        "outputId": "fa9cbdb7-12ad-49a4-da24-ff2dacb9ac3c"
      },
      "execution_count": 18,
      "outputs": [
        {
          "output_type": "stream",
          "name": "stdout",
          "text": [
            "Epoch 1/2\n",
            "196/196 [==============================] - 327s 2s/step - loss: 0.1895 - accuracy: 0.9300\n",
            "Epoch 2/2\n",
            "196/196 [==============================] - 326s 2s/step - loss: 0.1546 - accuracy: 0.9426\n"
          ]
        }
      ]
    },
    {
      "cell_type": "code",
      "source": [
        "train_loss1 = history.history['loss']\n",
        "train_acc1 = history.history['accuracy']\n",
        "xc1=range(len(train_acc1))"
      ],
      "metadata": {
        "id": "NECOGlQ3se8q"
      },
      "execution_count": 22,
      "outputs": []
    },
    {
      "cell_type": "markdown",
      "source": [
        "# RNN"
      ],
      "metadata": {
        "id": "4yYqTWYtsA5W"
      }
    },
    {
      "cell_type": "code",
      "source": [
        "import numpy as np\n",
        "from tensorflow.keras.datasets import imdb\n",
        "from tensorflow.keras.models import Sequential\n",
        "from tensorflow.keras.layers import Embedding, RNN, Dense,LSTM\n",
        "from tensorflow.keras.preprocessing import sequence\n",
        "from keras import layers\n",
        "\n"
      ],
      "metadata": {
        "id": "qYcJGj96sDLf"
      },
      "execution_count": null,
      "outputs": []
    },
    {
      "cell_type": "code",
      "source": [
        "max_words = 5000"
      ],
      "metadata": {
        "id": "9__SMr_FsHIv"
      },
      "execution_count": null,
      "outputs": []
    },
    {
      "cell_type": "code",
      "source": [
        "(x_train, y_train), (x_test, y_test) = imdb.load_data(num_words=max_words)"
      ],
      "metadata": {
        "id": "r4nobFxMsHL-"
      },
      "execution_count": null,
      "outputs": []
    },
    {
      "cell_type": "code",
      "source": [
        "max_length = 500\n",
        "x_train = sequence.pad_sequences(x_train, maxlen=max_length)\n",
        "x_test = sequence.pad_sequences(x_test, maxlen=max_length)"
      ],
      "metadata": {
        "id": "L5yI6jV4sTPY"
      },
      "execution_count": null,
      "outputs": []
    },
    {
      "cell_type": "code",
      "source": [
        "import keras\n",
        "keras.layers.SimpleRNN\n",
        "keras.layers.GRU\n",
        "keras.layers.LSTM\n",
        "model = Sequential()\n",
        "model.add(Embedding(max_words, 100, input_length=max_length))\n",
        "model.add(layers.GRU(256, return_sequences=True))\n",
        "model.add(layers.SimpleRNN(128))\n",
        "model.add(Dense(1, activation='sigmoid'))"
      ],
      "metadata": {
        "id": "o3eorb_GsTSv"
      },
      "execution_count": null,
      "outputs": []
    },
    {
      "cell_type": "code",
      "source": [
        "model.compile(loss='binary_crossentropy', optimizer='adam', metrics=['accuracy'])"
      ],
      "metadata": {
        "id": "pAe87uEhuxxX"
      },
      "execution_count": null,
      "outputs": []
    },
    {
      "cell_type": "code",
      "source": [
        "batch_size = 128\n",
        "epochs = 2\n",
        "model.fit(x_train, y_train, batch_size=batch_size, epochs=epochs, validation_split=0.2)"
      ],
      "metadata": {
        "id": "ipvcKjWRveZu"
      },
      "execution_count": null,
      "outputs": []
    },
    {
      "cell_type": "code",
      "source": [
        "loss, accuracy = model.evaluate(x_test, y_test, batch_size=batch_size)\n",
        "print(\"Test loss:\", loss)\n",
        "print(\"Test accuracy:\", accuracy)"
      ],
      "metadata": {
        "colab": {
          "base_uri": "https://localhost:8080/"
        },
        "id": "0Lj85FX0u-cu",
        "outputId": "ff224993-3d0b-4799-dcd1-b34833b533b2"
      },
      "execution_count": null,
      "outputs": [
        {
          "output_type": "stream",
          "name": "stdout",
          "text": [
            "196/196 [==============================] - 125s 637ms/step - loss: 0.3690 - accuracy: 0.8419\n",
            "Test loss: 0.3689819574356079\n",
            "Test accuracy: 0.8418800234794617\n"
          ]
        }
      ]
    },
    {
      "cell_type": "code",
      "source": [
        "history=model.fit(x_train,y_train,batch_size=batch_size,epochs=epochs)"
      ],
      "metadata": {
        "id": "_s9Sq6zQtBLk",
        "colab": {
          "base_uri": "https://localhost:8080/"
        },
        "outputId": "1155dc26-067c-4e76-f03e-08fc806d66f1"
      },
      "execution_count": 23,
      "outputs": [
        {
          "output_type": "stream",
          "name": "stdout",
          "text": [
            "Epoch 1/2\n",
            "196/196 [==============================] - 328s 2s/step - loss: 0.1374 - accuracy: 0.9508\n",
            "Epoch 2/2\n",
            "196/196 [==============================] - 341s 2s/step - loss: 0.1322 - accuracy: 0.9517\n"
          ]
        }
      ]
    },
    {
      "cell_type": "code",
      "source": [
        "train_loss2 = hist.history['loss']\n",
        "train_acc2 = hist.history['accuracy']\n",
        "xc2=range(len(train_acc2))"
      ],
      "metadata": {
        "id": "lBTJbKE4tBXi"
      },
      "execution_count": null,
      "outputs": []
    },
    {
      "cell_type": "markdown",
      "source": [
        "# GRU"
      ],
      "metadata": {
        "id": "QHdSkXHzqv4S"
      }
    },
    {
      "cell_type": "code",
      "source": [
        "model = Sequential()\n",
        "model.add(Embedding(max_words, 100, input_length=max_length))\n",
        "model.add(layers.GRU(128))\n",
        "model.add(Dense(1, activation='sigmoid'))\n",
        "\n",
        "model.compile(loss='binary_crossentropy', optimizer='adam', metrics=['accuracy'])\n",
        "\n",
        "# Train the model\n",
        "batch_size = 128\n",
        "epochs = 2\n",
        "hist=model.fit(x_train, y_train, batch_size=batch_size, epochs=epochs, validation_split=0.2)\n",
        "\n",
        "# Evaluate the model on the test set\n",
        "loss, accuracy = model.evaluate(x_test, y_test, batch_size=batch_size)\n",
        "print(\"Test loss:\", loss)\n",
        "print(\"Test accuracy:\", accuracy)"
      ],
      "metadata": {
        "id": "HOaRv6iUqoaN"
      },
      "execution_count": null,
      "outputs": []
    },
    {
      "cell_type": "code",
      "source": [
        "history=model.fit(x_train,y_train,batch_size=batch_size,epochs=epochs)"
      ],
      "metadata": {
        "id": "e-5cnU3ds5ZO"
      },
      "execution_count": null,
      "outputs": []
    },
    {
      "cell_type": "code",
      "source": [
        "train_loss3 = hist.history['loss']\n",
        "train_acc3 = hist.history['accuracy']\n",
        "xc3=range(len(train_acc3))"
      ],
      "metadata": {
        "id": "AuWDljlNsRZn"
      },
      "execution_count": null,
      "outputs": []
    },
    {
      "cell_type": "code",
      "source": [
        "import matplotlib.pyplot as plt\n",
        "plt.plot(xc1, train_acc1)\n",
        "plt.plot(xc2, train_acc2)\n",
        "plt.plot(xc3, train_acc3)\n",
        "plt.xlabel(\"Epoch\")\n",
        "plt.ylabel(\"Accuracy\")\n",
        "plt.legend([\"LSTM\",\"RNN\",\"GRU\"])"
      ],
      "metadata": {
        "id": "iR7HpIfWsRdA"
      },
      "execution_count": null,
      "outputs": []
    }
  ],
  "metadata": {
    "colab": {
      "provenance": [],
      "authorship_tag": "ABX9TyMxRcAuQyM7eelUpQHkaQUW",
      "include_colab_link": true
    },
    "kernelspec": {
      "display_name": "Python 3",
      "name": "python3"
    },
    "language_info": {
      "name": "python"
    }
  },
  "nbformat": 4,
  "nbformat_minor": 0
}